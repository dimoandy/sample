{
 "cells": [
  {
   "cell_type": "markdown",
   "id": "915954de",
   "metadata": {},
   "source": [
    "# Titanic: Three Data Visualizations (Python Review)\n",
    "\n",
    "**Research question:** *Which factors are related to survival on the Titanic?*\n",
    "\n",
    "We create three visualizations. At least one plot customizes color/size/shape beyond defaults.\n"
   ]
  },
  {
   "cell_type": "code",
   "execution_count": null,
   "id": "edf77ba5",
   "metadata": {},
   "outputs": [],
   "source": [
    "import pandas as pd\n",
    "import numpy as np\n",
    "import matplotlib.pyplot as plt\n",
    "\n",
    "titanic = pd.read_csv(\"/mnt/data/titanic.csv\")\n",
    "cols = {c.lower(): c for c in titanic.columns}\n",
    "survived = cols.get(\"survived\"); sex = cols.get(\"sex\"); pclass = cols.get(\"pclass\"); age = cols.get(\"age\"); fare = cols.get(\"fare\")\n",
    "titanic.head()"
   ]
  },
  {
   "cell_type": "markdown",
   "id": "3778ec6e",
   "metadata": {},
   "source": [
    "## Figure 1 — Bar chart: Survival rate by sex"
   ]
  },
  {
   "cell_type": "code",
   "execution_count": null,
   "id": "4d440f44",
   "metadata": {},
   "outputs": [],
   "source": [
    "df1 = titanic[[survived, sex]].dropna()\n",
    "sr_by_sex = df1.groupby(sex)[survived].mean().sort_values(ascending=False)\n",
    "\n",
    "plt.figure(figsize=(6,4))\n",
    "bars = plt.bar(sr_by_sex.index, sr_by_sex.values, color=[\"#4C78A8\", \"#F58518\"])  # customized colors\n",
    "plt.ylim(0,1); plt.title(\"Titanic Survival Rate by Sex\"); plt.ylabel(\"Survival Rate\")\n",
    "for b in bars:\n",
    "    plt.text(b.get_x()+b.get_width()/2, b.get_height()+0.02, f\"{b.get_height():.2f}\", ha=\"center\", va=\"bottom\", fontsize=10)\n",
    "plt.grid(axis='y', alpha=0.3); plt.tight_layout(); plt.show()"
   ]
  },
  {
   "cell_type": "markdown",
   "id": "f269d2bf",
   "metadata": {},
   "source": [
    "## Figure 2 — Bar chart: Survival rate by passenger class"
   ]
  },
  {
   "cell_type": "code",
   "execution_count": null,
   "id": "cd7fbe5c",
   "metadata": {},
   "outputs": [],
   "source": [
    "df2 = titanic[[survived, pclass]].dropna()\n",
    "df2[pclass] = pd.to_numeric(df2[pclass], errors=\"coerce\")\n",
    "sr_by_cls = df2.groupby(pclass)[survived].mean().sort_index()\n",
    "\n",
    "plt.figure(figsize=(6,4))\n",
    "bars = plt.bar(sr_by_cls.index.astype(str), sr_by_cls.values, color=[\"#1b9e77\",\"#d95f02\",\"#7570b3\"])  # custom palette\n",
    "plt.ylim(0,1); plt.title(\"Titanic Survival Rate by Passenger Class\"); plt.xlabel(\"Passenger Class\"); plt.ylabel(\"Survival Rate\")\n",
    "for b in bars:\n",
    "    plt.text(b.get_x()+b.get_width()/2, b.get_height()+0.02, f\"{b.get_height():.2f}\", ha=\"center\", va=\"bottom\", fontsize=10)\n",
    "plt.grid(axis='y', alpha=0.3); plt.tight_layout(); plt.show()"
   ]
  },
  {
   "cell_type": "markdown",
   "id": "8f11e87f",
   "metadata": {},
   "source": [
    "## Figure 3 — Scatter: Age vs Fare (color=survived, shape=sex, size~class)"
   ]
  },
  {
   "cell_type": "code",
   "execution_count": null,
   "id": "510f2bc5",
   "metadata": {},
   "outputs": [],
   "source": [
    "df3 = titanic[[age, fare, survived, sex, pclass]].dropna()\n",
    "\n",
    "color_map = {0:\"#f94144\", 1:\"#277da1\"}  # customized colors\n",
    "marker_map = {\"male\":\"o\", \"female\":\"^\"}  # customized marker shapes\n",
    "\n",
    "plt.figure(figsize=(7,5))\n",
    "for sx, mk in marker_map.items():\n",
    "    sub = df3[df3[sex] == sx]\n",
    "    plt.scatter(sub[age], sub[fare],\n",
    "                c=sub[survived].map(color_map),\n",
    "                s=50 + (4 - pd.to_numeric(sub[pclass], errors='coerce'))*10,  # size varies by class (1>2>3)\n",
    "                marker=mk, alpha=0.6, edgecolors=\"k\", linewidths=0.3, label=f\"{sx.title()}\")\n",
    "plt.xlabel(\"Age\"); plt.ylabel(\"Fare\"); plt.title(\"Age vs Fare (color=Survived, shape=Sex, size~Class)\")\n",
    "legend1 = plt.legend(title=\"Sex\", loc=\"upper right\")\n",
    "import matplotlib.lines as mlines\n",
    "h_surv = [mlines.Line2D([], [], color=\"#277da1\", marker='s', linestyle='None', markersize=8, label=\"Survived=1\"),\n",
    "          mlines.Line2D([], [], color=\"#f94144\", marker='s', linestyle='None', markersize=8, label=\"Survived=0\")]\n",
    "plt.gca().add_artist(legend1)\n",
    "plt.legend(handles=h_surv, title=\"Survived\", loc=\"lower right\")\n",
    "plt.grid(alpha=0.3); plt.tight_layout(); plt.show()"
   ]
  }
 ],
 "metadata": {},
 "nbformat": 4,
 "nbformat_minor": 5
}
